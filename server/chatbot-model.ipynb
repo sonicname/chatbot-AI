{
 "cells": [
  {
   "cell_type": "code",
   "execution_count": null,
   "metadata": {
    "pycharm": {
     "is_executing": true
    }
   },
   "outputs": [],
   "source": [
    "import nltk\n",
    "from nltk.stem.lancaster import LancasterStemmer\n",
    "\n",
    "stemmer = LancasterStemmer()\n",
    "\n",
    "nltk.download('punkt')\n",
    "\n",
    "import numpy as np\n",
    "import tflearn\n",
    "import tensorflow as tf\n",
    "import random"
   ]
  },
  {
   "cell_type": "code",
   "execution_count": 2,
   "metadata": {},
   "outputs": [],
   "source": [
    "import json\n",
    "with open('data/intents.json', encoding=\"utf8\") as json_data:\n",
    "    intents = json.load(json_data)"
   ]
  },
  {
   "cell_type": "code",
   "execution_count": 3,
   "metadata": {},
   "outputs": [],
   "source": [
    "def ngrams(str, n):\n",
    "    tokens = str.split(' ')\n",
    "    arr = []\n",
    "    for i in range(len(tokens)):\n",
    "        new_str = ''\n",
    "        if i == 0 and n>1:\n",
    "            new_str = '_'\n",
    "            for j in range(n):\n",
    "                if j < n - 1:\n",
    "                    if (i + j) <= len(tokens):\n",
    "                        new_str += ' '+tokens[i+j]\n",
    "                    else:\n",
    "                        new_str += ' _'\n",
    "        else:\n",
    "            for j in range(n):\n",
    "                if j < n:\n",
    "                    if (i + j) < len(tokens):\n",
    "                        if j == 0:\n",
    "                            new_str += tokens[i+j]\n",
    "                        else:\n",
    "                            new_str += ' '+tokens[i+j]\n",
    "                    else:\n",
    "                        new_str += ' _'\n",
    "        arr.append(new_str)\n",
    "    return arr"
   ]
  },
  {
   "cell_type": "code",
   "execution_count": 4,
   "metadata": {},
   "outputs": [
    {
     "name": "stdout",
     "output_type": "stream",
     "text": [
      "151 documents\n",
      "37 classes ['Acer', 'Asus', 'DELL', 'Lenovo', 'MSI', 'Ram', 'Ram_16_32', 'Ram_4_8', 'Ram_under_4', 'address', 'cpu_intel', 'gaming', 'goodbye', 'greeting', 'hours', 'menu', 'office', 'opentoday', 'others', 'payments', 'platform', 'platform_Mac_Os', 'platform_windows', 'platform_windows_10', 'platform_windows_11', 'platform_windows_7', 'size', 'size_11_12', 'size_13_14', 'size_15_16', 'size_17', 'storage', 'storage_HHD', 'storage_SSD', 'thanks', 'trademark', 'type_usage']\n",
      "143 unique stemmed words ['10', '11', '12', '13', '14', '15', '16', '16gb', '17', '2gb', '32gb', '4gb', '7', '8gb', 'ac', 'ai', 'as', 'biệt', 'bye', 'bán', 'bên', 'bạn', 'bị', 'chi', 'chip', 'cho', 'chào', 'chơi', 'chấp', 'chỉ', 'chọn', 'cung', 'các', 'còn', 'có', 'cảm', 'cấp', 'của', 'cứng', 'cửa', 'del', 'dụng', 'gam', 'gian', 'giá', 'giúp', 'goodby', 'gì', 'gặp', 'hay', 'hhd', 'hiểu', 'hiện', 'hiệu', 'hoạt', 'hàng', 'hành', 'hôm', 'hẹn', 'hệ', 'học', 'hỏi', 'hợp', 'hữu', 'inch', 'intel', 'khác', 'không', 'kiểu', 'kích', 'laptop', 'lenovo', 'loạ', 'làm', 'lý', 'lại', 'mac', 'mac_os', 'msi', 'mua', 'muốn', 'máy', 'mở', 'nay', 'nhánh', 'nhận', 'những', 'nào', 'os', 'phòng', 'phù', 'ram', 'rất', 'rẻ', 'shop', 'ssd', 'sử', 'thanh', 'thank', 'thêm', 'thích', 'thương', 'thước', 'thật', 'thể', 'thời', 'toán', 'trang', 'trò', 'tìm', 'tính', 'tôi', 'tư', 'tại', 'tạm', 'tập', 'tối', 'vi', 'việc', 'văn', 'vấn', 'vậy', 'về', 'với', 'win', 'window', 'xin', 'xử', 'you', 'ích', 'đang', 'đi', 'điều', 'điển', 'đây', 'đó', 'được', 'để', 'địa', 'động', 'ơn', 'ổ', 'ở']\n"
     ]
    }
   ],
   "source": [
    "words = []\n",
    "classes = []\n",
    "documents = []\n",
    "ignore_words = ['?', 'và', 'à', 'ừ', 'ạ', 'vì', 'từng', 'một_cách']\n",
    "\n",
    "for intent in intents['intents']:\n",
    "    for pattern in intent['patterns']:\n",
    "\n",
    "        w = nltk.word_tokenize(pattern)\n",
    "        words.extend(w)\n",
    "        documents.append((w, intent['tag']))\n",
    "        if intent['tag'] not in classes:\n",
    "            classes.append(intent['tag'])\n",
    "\n",
    "words = [stemmer.stem(w.lower()) for w in words if w not in ignore_words]\n",
    "words = sorted(list(set(words)))\n",
    "\n",
    "classes = sorted(list(set(classes)))\n",
    "\n",
    "print (len(documents), \"documents\")\n",
    "print (len(classes), \"classes\", classes)\n",
    "print (len(words), \"unique stemmed words\", words)"
   ]
  },
  {
   "cell_type": "code",
   "execution_count": 5,
   "metadata": {},
   "outputs": [],
   "source": [
    "#Create training data\n",
    "training = []\n",
    "output = []\n",
    "\n",
    "output_empty = [0] * len(classes)\n",
    "\n",
    "for doc in documents:\n",
    "    bag = []\n",
    "    pattern_words = doc[0]\n",
    "    pattern_words = [stemmer.stem(word.lower()) for word in pattern_words]\n",
    "\n",
    "    for w in words:\n",
    "        bag.append(1) if w in pattern_words else bag.append(0)\n",
    "\n",
    "    output_row = list(output_empty)\n",
    "    output_row[classes.index(doc[1])] = 1\n",
    "\n",
    "    training.append([bag, output_row])\n",
    "\n",
    "random.shuffle(training)\n",
    "training = np.array(training, dtype=object)\n",
    "\n",
    "train_x = list(training[:,0])\n",
    "train_y = list(training[:,1])"
   ]
  },
  {
   "cell_type": "code",
   "execution_count": 6,
   "metadata": {},
   "outputs": [
    {
     "name": "stdout",
     "output_type": "stream",
     "text": [
      "Training Step: 18999  | total loss: \u001B[1m\u001B[32m0.01657\u001B[0m\u001B[0m | time: 0.021s\n",
      "| Adam | epoch: 1000 | loss: 0.01657 - acc: 0.9794 -- iter: 144/151\n",
      "Training Step: 19000  | total loss: \u001B[1m\u001B[32m0.01502\u001B[0m\u001B[0m | time: 0.022s\n",
      "| Adam | epoch: 1000 | loss: 0.01502 - acc: 0.9815 -- iter: 151/151\n",
      "--\n",
      "INFO:tensorflow:E:\\Github\\chatbot-AI\\AI\\models_save\\model.tflearn is not in all_model_checkpoint_paths. Manually adding it.\n"
     ]
    }
   ],
   "source": [
    "tf.compat.v1.reset_default_graph()\n",
    "\n",
    "net = tflearn.input_data(shape=[None, len(train_x[0])])\n",
    "net = tflearn.fully_connected(net, 8)\n",
    "net = tflearn.fully_connected(net, 8)\n",
    "net = tflearn.fully_connected(net, len(train_y[0]), activation='softmax')\n",
    "net = tflearn.regression(net, optimizer='adam', loss='categorical_crossentropy')\n",
    "\n",
    "model = tflearn.DNN(net, tensorboard_dir='tflearn_logs')\n",
    "\n",
    "model.fit(train_x, train_y, n_epoch=1000, batch_size=8, show_metric=True)\n",
    "model.save('models_save/model.tflearn')"
   ]
  },
  {
   "cell_type": "code",
   "execution_count": 7,
   "metadata": {},
   "outputs": [],
   "source": [
    "import pickle\n",
    "pickle.dump( {'words':words, 'classes':classes, 'train_x':train_x, 'train_y':train_y}, open( \"models_save/training_data\", \"wb\" ) )"
   ]
  },
  {
   "cell_type": "code",
   "execution_count": null,
   "metadata": {},
   "outputs": [],
   "source": []
  }
 ],
 "metadata": {
  "kernelspec": {
   "display_name": "Python 3",
   "language": "python",
   "name": "python3"
  },
  "language_info": {
   "codemirror_mode": {
    "name": "ipython",
    "version": 3
   },
   "file_extension": ".py",
   "mimetype": "text/x-python",
   "name": "python",
   "nbconvert_exporter": "python",
   "pygments_lexer": "ipython3",
   "version": "3.5.2"
  }
 },
 "nbformat": 4,
 "nbformat_minor": 2
}
